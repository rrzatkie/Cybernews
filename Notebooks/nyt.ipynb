{
 "nbformat": 4,
 "nbformat_minor": 2,
 "metadata": {
  "language_info": {
   "name": "python",
   "codemirror_mode": {
    "name": "ipython",
    "version": 3
   },
   "version": "3.7.4-final"
  },
  "orig_nbformat": 2,
  "file_extension": ".py",
  "mimetype": "text/x-python",
  "name": "python",
  "npconvert_exporter": "python",
  "pygments_lexer": "ipython3",
  "version": 3,
  "kernelspec": {
   "name": "python3",
   "display_name": "Python 3"
  }
 },
 "cells": [
  {
   "cell_type": "code",
   "execution_count": null,
   "metadata": {},
   "outputs": [],
   "source": [
    "import pandas as pd\n",
    "\n",
    "class Article():\n",
    "    def __init__(self, id, title):\n",
    "        self.id = id\n",
    "        self.title = title\n",
    "        self.annotations = set()\n",
    "\n",
    "    def addAnnotation(self, EntityIndex, AutoInferredSalience, MentionCount, FirstMentionText, ByteOffsetStart, ByteOFfsetEnd, MID):\n",
    "        self.annotations.add()\n",
    "\n",
    "# df = pd.read_csv('/home/rrzatkie/Work/Cybernews/Data/nyt/nyt-eval', sep='\\t', lineterminator='\\r')\n",
    "\n",
    "f = open('/home/rrzatkie/Work/Cybernews/Data/nyt/nyt-eval', \"r\")\n",
    "\n",
    "line = f.readline()\n",
    "parsing = True \n",
    "while parsing:\n",
    "    line = line.split(\" \", 1)\n",
    "    article = Article(line[0], line[1])\n",
    "\n",
    "    line = f.readline()\n",
    "    while line != \"\":\n",
    "        article.addAnnotation()\n"
   ]
  },
  {
   "cell_type": "code",
   "execution_count": null,
   "metadata": {},
   "outputs": [],
   "source": [
    "df"
   ]
  },
  {
   "cell_type": "code",
   "execution_count": null,
   "metadata": {},
   "outputs": [],
   "source": []
  }
 ]
}
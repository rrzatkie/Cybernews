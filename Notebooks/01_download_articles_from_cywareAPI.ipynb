{
 "cells": [
  {
   "cell_type": "code",
   "execution_count": 1,
   "metadata": {},
   "outputs": [],
   "source": [
    "import requests, json\n",
    "import newspaper\n",
    "import multiprocessing\n",
    "from joblib import Parallel, delayed\n",
    "import datetime\n",
    "from tqdm import tqdm\n",
    "\n",
    "method = 'POST'\n",
    "url = 'https://api.cyware.com/public/cyuserallstory/'\n",
    "raw_headers = \"User-Agent:PostmanRuntime/7.13.0\\nAccept:*/*\\nCache-Control:no-cache\\nPostman-Token:4ae3e87e-7195-4654-9bd9-ebe230359fb7\\ncookie:2fa_sessionid=fkk1a2qxxh0bc5cuxjmafezqjcjfgx6y\\ncontent-length:0\\nConnection:close\\nHost:api.cyware.com\"\n",
    "\n",
    "headers = dict([[h.partition(':')[0], h.partition(':')[2]] for h in raw_headers.split('\\n')])\n",
    "url = \"https://api.cyware.com/public/cyuserallstory/\"\n",
    "\n",
    "response = requests.request(\"POST\", url, headers=headers)"
   ]
  },
  {
   "cell_type": "code",
   "execution_count": null,
   "metadata": {},
   "outputs": [],
   "source": [
    "json_content = json.loads(response.text)\n",
    "columns = list(json_content['results'][0].keys())\n",
    "next_link = json_content['links']['next']\n",
    "cur_count = json_content['count']\n",
    "\n",
    "articles_api = []\n",
    "for result in json_content['results']:\n",
    "    row = []\n",
    "    for column in columns:\n",
    "        row.append(result[column])\n",
    "    articles_api.append(row)\n",
    "\n",
    "total = int(cur_count)\n",
    "with tqdm(total=total) as pbar:\n",
    "    while(cur_count > 0):\n",
    "        url = next_link\n",
    "        try_count = 0\n",
    "        while(try_count < 3):\n",
    "            response = requests.request(\"POST\", url, headers=headers)\n",
    "            if(response.status_code == 200):\n",
    "                break\n",
    "        if(response.status_code != 200):\n",
    "            break\n",
    "        json_content = json.loads(response.text)\n",
    "        next_link = json_content['links']['next']\n",
    "        for result in json_content['results']:\n",
    "            row = []\n",
    "            for column in columns:\n",
    "                row.append(result[column])\n",
    "            articles_api.append(row)\n",
    "        pbar.update(len(json_content['results']))\n",
    "        cur_count -= len(json_content['results'])"
   ]
  },
  {
   "cell_type": "code",
   "execution_count": null,
   "metadata": {},
   "outputs": [],
   "source": [
    "import pandas as pd\n",
    "\n",
    "df = pd.DataFrame(articles_api, columns=columns)\n",
    "f = open(\"raw_data_cyware-api-14-08-2019.csv\", 'w', encoding=\"utf-8\")\n",
    "df.to_csv(path_or_buf=f)\n",
    "f.close()"
   ]
  },
  {
   "cell_type": "code",
   "execution_count": null,
   "metadata": {},
   "outputs": [],
   "source": []
  }
 ],
 "metadata": {
  "file_extension": ".py",
  "kernelspec": {
   "display_name": "Python 3",
   "language": "python",
   "name": "python3"
  },
  "language_info": {
   "codemirror_mode": {
    "name": "ipython",
    "version": 3
   },
   "file_extension": ".py",
   "mimetype": "text/x-python",
   "name": "python",
   "nbconvert_exporter": "python",
   "pygments_lexer": "ipython3",
   "version": "3.6.9"
  },
  "mimetype": "text/x-python",
  "name": "python",
  "npconvert_exporter": "python",
  "pygments_lexer": "ipython3",
  "version": 3
 },
 "nbformat": 4,
 "nbformat_minor": 2
}

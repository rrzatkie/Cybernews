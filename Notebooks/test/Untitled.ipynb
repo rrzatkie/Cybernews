{
 "cells": [
  {
   "cell_type": "code",
   "execution_count": 5,
   "metadata": {},
   "outputs": [],
   "source": [
    "import lxml"
   ]
  },
  {
   "cell_type": "code",
   "execution_count": 11,
   "metadata": {},
   "outputs": [],
   "source": [
    "from lxml import html"
   ]
  },
  {
   "cell_type": "code",
   "execution_count": 12,
   "metadata": {},
   "outputs": [],
   "source": [
    "import requests\n",
    "\n",
    "resp = requests.get(\"https://wola.totalfitness.com.pl/kalendarz-zajec?type=33723&day=18-09-2019\")\n",
    "cont = html.document_fromstring(resp.content)"
   ]
  },
  {
   "cell_type": "code",
   "execution_count": 23,
   "metadata": {},
   "outputs": [],
   "source": [
    "els = cont.xpath(\"//*[@id=\\\"scheduler\\\"]/div[1]/table/tbody/tr/td/div/p\")"
   ]
  },
  {
   "cell_type": "code",
   "execution_count": 25,
   "metadata": {},
   "outputs": [
    {
     "data": {
      "text/plain": [
       "[<Element p at 0x1fe5d7f4908>,\n",
       " <Element p at 0x1fe5d7f4188>,\n",
       " <Element p at 0x1fe5d7f4138>,\n",
       " <Element p at 0x1fe5d19ec78>,\n",
       " <Element p at 0x1fe5d7f4548>,\n",
       " <Element p at 0x1fe5d7f4048>,\n",
       " <Element p at 0x1fe5d7f4458>,\n",
       " <Element p at 0x1fe5d7f4598>,\n",
       " <Element p at 0x1fe5d7f48b8>,\n",
       " <Element p at 0x1fe5d7f45e8>,\n",
       " <Element p at 0x1fe5d7f4638>,\n",
       " <Element p at 0x1fe5d7f4688>]"
      ]
     },
     "execution_count": 25,
     "metadata": {},
     "output_type": "execute_result"
    }
   ],
   "source": [
    "els"
   ]
  },
  {
   "cell_type": "code",
   "execution_count": 26,
   "metadata": {},
   "outputs": [
    {
     "name": "stdout",
     "output_type": "stream",
     "text": [
      "ZDROWY KRĘGOSŁUP\n",
      "Emilia Dunajska\n",
      "None\n",
      "ZDROWY KRĘGOSŁUP\n",
      "Renata Kołodziejczyk\n",
      "Sala fitness\n",
      "ZDROWY KRĘGOSŁUP\n",
      "Anita Szołdra\n",
      "Sala fitness\n",
      "ZDROWY KRĘGOSŁUP\n",
      "Kamila Korbel\n",
      "None\n"
     ]
    }
   ],
   "source": [
    "for el in els:\n",
    "    print(el.text)"
   ]
  },
  {
   "cell_type": "code",
   "execution_count": null,
   "metadata": {},
   "outputs": [],
   "source": []
  }
 ],
 "metadata": {
  "kernelspec": {
   "display_name": "Python 3",
   "language": "python",
   "name": "python3"
  },
  "language_info": {
   "codemirror_mode": {
    "name": "ipython",
    "version": 3
   },
   "file_extension": ".py",
   "mimetype": "text/x-python",
   "name": "python",
   "nbconvert_exporter": "python",
   "pygments_lexer": "ipython3",
   "version": "3.6.9"
  }
 },
 "nbformat": 4,
 "nbformat_minor": 2
}
